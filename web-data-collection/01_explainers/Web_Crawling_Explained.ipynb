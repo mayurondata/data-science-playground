{
 "cells": [
  {
   "cell_type": "markdown",
   "id": "84544fab",
   "metadata": {},
   "source": [
    "# Web Crawling\n",
    "\n",
    "Web crawling is the process where a program (called a web crawler or spider) automatically visits websites and follows links to discover more pages. This helps build a list of URLs that might contain information we need, either from the entire internet or a specific section of a site.\n",
    "\n",
    "## What is Pure Web Crawling?\n",
    "\n",
    "Pure web crawling returns a set of discovered URLs that are likely to contain relevant information — based on link structures, URL patterns, and navigation paths — without extracting any actual content from the pages.\n",
    "\n",
    "## Rationale: How Pure Crawlers Identify Relevant URLs\n",
    "\n",
    "Pure crawlers don't access or analyze full page content. Instead, they infer which pages might be relevant by relying on structural clues like:\n",
    "\n",
    "- **URL patterns** (e.g., `/product/`, `/catalogue/` often indicate detail pages)  \n",
    "- **HTML context** (e.g., links inside listing containers likely point to items)  \n",
    "- **Anchor text or attributes** (e.g., \"Logitech Keyboard\" in link text suggests relevance)\n",
    "\n",
    "These heuristics let crawlers intelligently guess page relevance and build a list of target URLs — all without actually opening and scraping the content.\n",
    "\n",
    "## Example Use Case: Crawling for Keyboards\n",
    "\n",
    "A valid crawling task could be:\n",
    "\n",
    "> Create a pure crawler that visits a predefined list of e-commerce websites and collects product URLs that likely correspond to keyboards. This is done by following category pages and inferring product relevance based on heuristics like URL paths, link text, or DOM structure — without extracting any product data.\n",
    "\n",
    "This is a classic case of targeted web crawling — where the focus is on discovery, not extraction.\n"
   ]
  },
  {
   "cell_type": "markdown",
   "id": "521bb1bf",
   "metadata": {},
   "source": [
    "---\n",
    "\n",
    "###  Common Use Cases of Web Crawling.\n",
    "\n",
    "- **Search Engines**  \n",
    "  Google and Bing use crawlers to find and visit websites, so they can show them when someone searches for something.\n",
    "\n",
    "- **Checking for New Updates**  \n",
    "  Some crawlers are used to regularly check websites for updates — like new blog posts, products, or news articles.\n",
    "\n",
    "\n",
    "---\n",
    "\n",
    "###  Real-Life Analogy: The Library Scout\n",
    "\n",
    "Imagine the internet is a **huge library**, and you're looking for books about \"keyboards\".\n",
    "\n",
    "- A **web crawler** is like a **scout** walking through every aisle, checking the titles and notes on shelves.\n",
    "- The scout **doesn’t open any books** — just **makes a list** of all the books that look interesting.\n",
    "- Later, you (or a **web scraper**) go and **open the books** to copy the information you actually want.\n",
    "\n",
    "---\n",
    "\n",
    "###  Popular Tools for Web Crawling\n",
    "| Tool                        | Category                | Notes                                            |\n",
    "| --------------------------- | ----------------------- | ------------------------------------------------ |\n",
    "| **Scrapy**                  | Crawler + Scraper       | Designed for large-scale crawling and scraping   |\n",
    "| **Apache Nutch**            | Crawler                 | Big data web crawling                            |\n",
    "| **Selenium**                | Scraper (but can crawl) | Best for scraping JavaScript-heavy websites      |\n",
    "\n"
   ]
  }
 ],
 "metadata": {
  "kernelspec": {
   "display_name": "Python 3",
   "language": "python",
   "name": "python3"
  },
  "language_info": {
   "codemirror_mode": {
    "name": "ipython",
    "version": 3
   },
   "file_extension": ".py",
   "mimetype": "text/x-python",
   "name": "python",
   "nbconvert_exporter": "python",
   "pygments_lexer": "ipython3",
   "version": "3.11.1"
  }
 },
 "nbformat": 4,
 "nbformat_minor": 5
}

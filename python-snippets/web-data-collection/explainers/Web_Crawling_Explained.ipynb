{
 "cells": [
  {
   "cell_type": "markdown",
   "id": "84544fab",
   "metadata": {},
   "source": [
    "#  Web Crawling\n",
    "Web crawling is when a program (called a web crawler or spider) automatically visits websites and follows links to find more pages. It helps build a list of pages that might have the information we need, either from the whole internet or just a specific section of it.\n",
    "\n",
    "- Web crawling helps us find all the pages that might have the information we're looking for."
   ]
  },
  {
   "cell_type": "markdown",
   "id": "521bb1bf",
   "metadata": {},
   "source": [
    "---\n",
    "\n",
    "###  Common Use Cases of Web Crawling.\n",
    "\n",
    "- **Search Engines**  \n",
    "  Google and Bing use crawlers to find and visit websites, so they can show them when someone searches for something.\n",
    "\n",
    "- **Checking for New Updates**  \n",
    "  Some crawlers are used to regularly check websites for updates — like new blog posts, products, or news articles.\n",
    "\n",
    "\n",
    "---\n",
    "\n",
    "###  Real-Life Analogy: The Library Scout\n",
    "\n",
    "Imagine the internet is a **huge library**, and you're looking for books about \"keyboards\".\n",
    "\n",
    "- A **web crawler** is like a **scout** walking through every aisle, checking the titles and notes on shelves.\n",
    "- The scout **doesn’t open any books** — just **makes a list** of all the books that look interesting.\n",
    "- Later, you (or a **web scraper**) go and **open the books** to copy the information you actually want.\n",
    "\n",
    "---\n",
    "\n",
    "###  Popular Tools for Web Crawling\n",
    "| Tool                        | Category                | Notes                                            |\n",
    "| --------------------------- | ----------------------- | ------------------------------------------------ |\n",
    "| **Scrapy**                  | Crawler + Scraper       | Designed for large-scale crawling and scraping   |\n",
    "| **Apache Nutch**            | Crawler                 | Big data web crawling                            |\n",
    "| **Selenium**                | Scraper (but can crawl) | Best for scraping JavaScript-heavy websites      |\n",
    "\n"
   ]
  }
 ],
 "metadata": {
  "kernelspec": {
   "display_name": "Python 3",
   "language": "python",
   "name": "python3"
  },
  "language_info": {
   "codemirror_mode": {
    "name": "ipython",
    "version": 3
   },
   "file_extension": ".py",
   "mimetype": "text/x-python",
   "name": "python",
   "nbconvert_exporter": "python",
   "pygments_lexer": "ipython3",
   "version": "3.11.1"
  }
 },
 "nbformat": 4,
 "nbformat_minor": 5
}

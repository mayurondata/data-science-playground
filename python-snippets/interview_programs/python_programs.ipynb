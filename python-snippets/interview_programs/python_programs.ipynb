{
 "cells": [
  {
   "cell_type": "markdown",
   "id": "84afe830",
   "metadata": {},
   "source": [
    "### pattern problems "
   ]
  },
  {
   "cell_type": "markdown",
   "id": "b4f9ab1a",
   "metadata": {},
   "source": [
    "### logic based problems"
   ]
  },
  {
   "cell_type": "markdown",
   "id": "45ee4f28",
   "metadata": {},
   "source": [
    "##### Finding triplets in a list of numbers whose sum equals 10"
   ]
  }
 ],
 "metadata": {
  "kernelspec": {
   "display_name": "Python 3",
   "language": "python",
   "name": "python3"
  },
  "language_info": {
   "name": "python",
   "version": "3.11.1"
  }
 },
 "nbformat": 4,
 "nbformat_minor": 5
}

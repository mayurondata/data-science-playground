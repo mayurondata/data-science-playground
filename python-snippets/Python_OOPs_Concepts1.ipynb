{
 "cells": [
  {
   "cell_type": "markdown",
   "id": "9821cc9b",
   "metadata": {},
   "source": [
    "## Core OOP Concepts in Python\n",
    "\n",
    "This notebook covers the four main pillars of Object-Oriented Programming (OOP) in Python.\n",
    "\n",
    "We’ll explore:\n",
    "\n",
    "- Inheritance – reusing and extending existing classes\n",
    "- Encapsulation – restricting access to internal data\n",
    "- Polymorphism – using the same interface for different data types\n",
    "- Abstraction – hiding internal implementation and showing only relevant features\n",
    "\n",
    "Each concept is explained with simple examples and clear use cases.\n"
   ]
  },
  {
   "cell_type": "markdown",
   "id": "4e4d0d47",
   "metadata": {},
   "source": [
    "## Parent classes child classes and inheritance"
   ]
  },
  {
   "cell_type": "markdown",
   "id": "8dda939e",
   "metadata": {},
   "source": [
    "- let's say we want to create developer , Manager class and we want to have  the same functionalities of Employee class and provdies \n",
    "  some extra fuctionalities to child class \n",
    "- creating child class that will inherit from parent class"
   ]
  },
  {
   "cell_type": "code",
   "execution_count": 1,
   "id": "eaf81a71",
   "metadata": {},
   "outputs": [],
   "source": [
    "class Employee:\n",
    "    raise_amount = 1.04\n",
    "\n",
    "    def __init__(self, first, last, pay):\n",
    "        self.fname = first\n",
    "        self.lname = last\n",
    "        self.pay = pay\n",
    "        self.email = f\"{first}{last}@abccompany.com\"\n",
    "\n",
    "    def get_raise(self):\n",
    "        self.pay = self.pay * self.raise_amount\n",
    "        return f\"{self.fname} got a raise! New pay: ₹{self.pay:.2f}\"\n",
    "\n",
    "    def full_name(self):\n",
    "        return f\"{self.fname} {self.lname}\"\n",
    "    \n",
    "class Developer(Employee):\n",
    "    def __init__(self, first, last, pay, prog_lang):\n",
    "        super().__init__(first, last, pay)  # Inherits from Employee\n",
    "        self.prog_lang = prog_lang  # New attribute\n",
    "class Manager(Employee):\n",
    "    def __init__(self, first, last, pay, employees=None):\n",
    "        super().__init__(first, last, pay)  # Inherit Employee's init\n",
    "        if employees is None:\n",
    "            self.employees = []\n",
    "        else:\n",
    "            self.employees = employees\n",
    "\n",
    "    def add_employee(self, emp):\n",
    "        if emp not in self.employees:\n",
    "            self.employees.append(emp)\n",
    "\n",
    "    def remove_employee(self, emp):\n",
    "        if emp in self.employees:\n",
    "            self.employees.remove(emp)\n",
    "\n",
    "    def list_employees(self):\n",
    "        return [emp.full_name() for emp in self.employees]\n"
   ]
  },
  {
   "cell_type": "markdown",
   "id": "10c64a81",
   "metadata": {},
   "source": [
    "- The **`super()`** function is a special built-in function that allows us to call methods and attributes from the parent class.\n",
    "- When we call **`super().__init__()`**, it invokes the `__init__` method of the parent class, allowing the child class to initialize attributes defined in the parent.\n",
    "- This helps the child class inherit and reuse code from the parent class without rewriting it.\n",
    "- Using **`super().__init__()`** only initializes the attributes defined in the parent class's `__init__` method.\n",
    "- However, all **methods and class-level attributes** of the parent class are already accessible to the child class through inheritance — even without calling `super()`.\n",
    "- So, **`super().__init__()` gives access to parent class instance attributes**, but the child class automatically inherits all other methods and variables from the parent.\n"
   ]
  },
  {
   "cell_type": "code",
   "execution_count": 3,
   "id": "c293f3ca",
   "metadata": {},
   "outputs": [
    {
     "name": "stdout",
     "output_type": "stream",
     "text": [
      "Mayuresh Joshi - Python\n",
      "MayureshJoshi@abccompany.com\n",
      "Sanjay Nair - manages:\n",
      "['Mayuresh Joshi']\n",
      "After adding another employee: ['Mayuresh Joshi', 'Riya Kapoor']\n",
      "Sanjay got a raise! New pay: ₹104000.00\n"
     ]
    }
   ],
   "source": [
    "# Create Developer objects\n",
    "dev1 = Developer(\"Mayuresh\", \"Joshi\", 70000, \"Python\")\n",
    "dev2 = Developer(\"Riya\", \"Kapoor\", 75000, \"JavaScript\")\n",
    "\n",
    "# Create Manager with dev1 under management\n",
    "mgr = Manager(\"Sanjay\", \"Nair\", 100000, [dev1])\n",
    "\n",
    "# Show full name and programming language\n",
    "print(dev1.full_name(), \"-\", dev1.prog_lang)\n",
    "print(dev1.email)\n",
    "\n",
    "# Manager details\n",
    "print(mgr.full_name(), \"- manages:\")\n",
    "print(mgr.list_employees())\n",
    "\n",
    "# Add another developer\n",
    "mgr.add_employee(dev2)\n",
    "print(\"After adding another employee:\", mgr.list_employees())\n",
    "\n",
    "# Give raise to manager\n",
    "print(mgr.get_raise())\n"
   ]
  },
  {
   "cell_type": "markdown",
   "id": "14866c12",
   "metadata": {},
   "source": [
    "### ✅ isinstance() vs issubclass()\n",
    "\n",
    "- **`isinstance(object, class)`** → Checks if an object is an instance of a class or its subclass.\n",
    "- **`issubclass(class1, class2)`** → Checks if one class is a subclass of another.\n",
    "\n",
    "---\n",
    "\n",
    "**Examples:**\n",
    "```python\n",
    "isinstance(dev, Employee)      # ✅ True — dev is an instance of Developer, which inherits from Employee\n",
    "issubclass(Developer, Employee) # ✅ True — Developer is a subclass of Employee\n"
   ]
  },
  {
   "cell_type": "code",
   "execution_count": 4,
   "id": "1468a03a",
   "metadata": {},
   "outputs": [
    {
     "name": "stdout",
     "output_type": "stream",
     "text": [
      "True\n",
      "True\n",
      "False\n",
      "True\n",
      "True\n",
      "False\n",
      "True\n"
     ]
    }
   ],
   "source": [
    "# isinstance() checks\n",
    "print(isinstance(dev1, Developer))   # ✅ True\n",
    "print(isinstance(dev1, Employee))    # ✅ True (Developer is a subclass of Employee)\n",
    "print(isinstance(mgr, Developer))   # ❌ False\n",
    "\n",
    "# issubclass() checks\n",
    "print(issubclass(Developer, Employee))  # ✅ True\n",
    "print(issubclass(Manager, Employee))    # ✅ True\n",
    "print(issubclass(Employee, Developer))  # ❌ False\n",
    "print(issubclass(Manager, object))      # ✅ True (everything inherits from object)"
   ]
  },
  {
   "cell_type": "markdown",
   "id": "bfc43d44",
   "metadata": {},
   "source": [
    "- In `super().__init__()`, we pass the arguments **required by the parent class's constructor**, not necessarily ones that are shared with the child class.\n",
    "- This does **not disturb or change** the original parent class — it simply initializes it with the appropriate arguments from the child class.\n",
    "- The parent class stays completely untouched; we are just calling its `__init__()` method using `super()`.\n"
   ]
  },
  {
   "cell_type": "code",
   "execution_count": 5,
   "id": "20e30f3b",
   "metadata": {},
   "outputs": [
    {
     "name": "stdout",
     "output_type": "stream",
     "text": [
      "Whiskers says Meow!\n"
     ]
    }
   ],
   "source": [
    "# Base class\n",
    "class Animal:\n",
    "    def __init__(self, species):\n",
    "        self.species = species\n",
    "    \n",
    "    def make_sound(self):\n",
    "        print(\"Some generic animal sound\")\n",
    "\n",
    "# Derived class\n",
    "class Cat(Animal):\n",
    "    def __init__(self, name):\n",
    "        # super().__init__(species = \"Cat\")  # Call the base class constructor\n",
    "        self.name = name\n",
    "    \n",
    "    def make_sound(self): #Availible because of Inheritance and not super().__init__()\n",
    "        print(f\"{self.name} says Meow!\")\n",
    "\n",
    "kitty = Cat(\"Whiskers\")\n",
    "# print(kitty.species)\n",
    "kitty.make_sound()"
   ]
  },
  {
   "cell_type": "markdown",
   "id": "eda1b317",
   "metadata": {},
   "source": [
    "# Tyeps of Inheritance \n",
    "- hierarchical\n",
    "- Multiple\n",
    "- Single\n",
    "- Multiclass\n",
    "- hybrid\n",
    "\n",
    "![Types of Inheritance](types-of-inheritance-in-python.png)\n"
   ]
  },
  {
   "cell_type": "code",
   "execution_count": 6,
   "id": "d3f5fa5d",
   "metadata": {},
   "outputs": [
    {
     "name": "stdout",
     "output_type": "stream",
     "text": [
      "----- 1. Single Inheritance -----\n",
      "Animal speaks\n",
      "Dog barks\n",
      "\n",
      "----- 2. Multiple Inheritance -----\n",
      "Can fly\n",
      "Can swim\n",
      "\n",
      "----- 3. Multilevel Inheritance -----\n",
      "Living being breathes\n",
      "Mammal walks\n",
      "Human speaks\n",
      "\n",
      "----- 4. Hierarchical Inheritance -----\n",
      "Vehicle started\n",
      "Car is driving\n",
      "Vehicle started\n",
      "Bike is riding\n",
      "\n",
      "----- 5. Hybrid Inheritance -----\n",
      "I am a person\n",
      "I study\n",
      "I work\n",
      "I can study and work\n"
     ]
    }
   ],
   "source": [
    "print(\"----- 1. Single Inheritance -----\")\n",
    "class Animal:\n",
    "    def speak(self):\n",
    "        print(\"Animal speaks\")\n",
    "\n",
    "class Dog(Animal):\n",
    "    def bark(self):\n",
    "        print(\"Dog barks\")\n",
    "\n",
    "d = Dog()\n",
    "d.speak()\n",
    "d.bark()\n",
    "\n",
    "# -------------------------------------\n",
    "print(\"\\n----- 2. Multiple Inheritance -----\")\n",
    "class Flyable:\n",
    "    def fly(self):\n",
    "        print(\"Can fly\")\n",
    "\n",
    "class Swimmable:\n",
    "    def swim(self):\n",
    "        print(\"Can swim\")\n",
    "\n",
    "class Duck(Flyable, Swimmable):\n",
    "    pass\n",
    "\n",
    "duck = Duck()\n",
    "duck.fly()\n",
    "duck.swim()\n",
    "\n",
    "# -------------------------------------\n",
    "print(\"\\n----- 3. Multilevel Inheritance -----\")\n",
    "class LivingBeing:\n",
    "    def breathe(self):\n",
    "        print(\"Living being breathes\")\n",
    "\n",
    "class Mammal(LivingBeing):\n",
    "    def walk(self):\n",
    "        print(\"Mammal walks\")\n",
    "\n",
    "class Human(Mammal):\n",
    "    def speak(self):\n",
    "        print(\"Human speaks\")\n",
    "\n",
    "h = Human()\n",
    "h.breathe()\n",
    "h.walk()\n",
    "h.speak()\n",
    "\n",
    "# -------------------------------------\n",
    "print(\"\\n----- 4. Hierarchical Inheritance -----\")\n",
    "class Vehicle:\n",
    "    def start(self):\n",
    "        print(\"Vehicle started\")\n",
    "\n",
    "class Car(Vehicle):\n",
    "    def drive(self):\n",
    "        print(\"Car is driving\")\n",
    "\n",
    "class Bike(Vehicle):\n",
    "    def ride(self):\n",
    "        print(\"Bike is riding\")\n",
    "\n",
    "c = Car()\n",
    "b = Bike()\n",
    "c.start()\n",
    "c.drive()\n",
    "b.start()\n",
    "b.ride()\n",
    "\n",
    "# -------------------------------------\n",
    "print(\"\\n----- 5. Hybrid Inheritance -----\")\n",
    "class Person:\n",
    "    def identity(self):\n",
    "        print(\"I am a person\")\n",
    "\n",
    "class Student(Person):\n",
    "    def study(self):\n",
    "        print(\"I study\")\n",
    "\n",
    "class Employee:\n",
    "    def work(self):\n",
    "        print(\"I work\")\n",
    "\n",
    "class WorkingStudent(Student, Employee):\n",
    "    def multitask(self):\n",
    "        print(\"I can study and work\")\n",
    "\n",
    "ws = WorkingStudent()\n",
    "ws.identity()\n",
    "ws.study()\n",
    "ws.work()\n",
    "ws.multitask()\n"
   ]
  },
  {
   "cell_type": "markdown",
   "id": "8f975a1a",
   "metadata": {},
   "source": [
    "## Encapsulation\n",
    "\n",
    "- **Encapsulation** is the concept of **restricting direct access** to some of an object's components.\n",
    "- It allows us to bundle data (attributes) and methods into a single unit (class) and control how that data is accessed or modified.\n",
    "- In Python, we achieve encapsulation using:\n",
    "  - **Public members**: Accessible from anywhere.\n",
    "  - **Protected members (_var)**: A convention to indicate it should be accessed only within the class or subclasses.\n",
    "  - **Private members (__var)**: Name mangled, can't be accessed directly from outside the class.\n",
    "\n",
    "**Why use Encapsulation?**\n",
    "- To protect data from unintended modification.\n",
    "- To hide internal implementation details.\n",
    "- To enforce data validation via getter/setter methods.\n"
   ]
  },
  {
   "cell_type": "code",
   "execution_count": 7,
   "id": "22433b2c",
   "metadata": {},
   "outputs": [],
   "source": [
    "class Person():\n",
    "    def __init__(self, name , age, gender): \n",
    "        self.__name = name \n",
    "        self.__age = age \n",
    "        self.__gender = gender \n",
    "\n",
    "p1 = Person('Mayuresh' , 24 , 'Male')"
   ]
  },
  {
   "cell_type": "code",
   "execution_count": 8,
   "id": "1af98f4c",
   "metadata": {},
   "outputs": [
    {
     "name": "stdout",
     "output_type": "stream",
     "text": [
      "Deposited ₹5000. New balance: ₹15000\n",
      "15000\n"
     ]
    }
   ],
   "source": [
    "# Encapsulation using private variables\n",
    "class BankAccount:\n",
    "    def __init__(self, owner, balance):\n",
    "        self.owner = owner\n",
    "        self.__balance = balance  # Private variable\n",
    "\n",
    "    def deposit(self, amount):\n",
    "        self.__balance += amount\n",
    "        print(f\"Deposited ₹{amount}. New balance: ₹{self.__balance}\")\n",
    "    \n",
    "    def get_balance(self):\n",
    "        return self.__balance\n",
    "\n",
    "account = BankAccount(\"Mayuresh\", 10000)\n",
    "account.deposit(5000)\n",
    "print(account.get_balance())"
   ]
  },
  {
   "cell_type": "markdown",
   "id": "64788750",
   "metadata": {},
   "source": [
    "# Abstraction "
   ]
  },
  {
   "cell_type": "markdown",
   "id": "9ce27bfc",
   "metadata": {},
   "source": [
    "# Polymorphishm"
   ]
  }
 ],
 "metadata": {
  "kernelspec": {
   "display_name": "Python 3",
   "language": "python",
   "name": "python3"
  },
  "language_info": {
   "codemirror_mode": {
    "name": "ipython",
    "version": 3
   },
   "file_extension": ".py",
   "mimetype": "text/x-python",
   "name": "python",
   "nbconvert_exporter": "python",
   "pygments_lexer": "ipython3",
   "version": "3.11.1"
  }
 },
 "nbformat": 4,
 "nbformat_minor": 5
}

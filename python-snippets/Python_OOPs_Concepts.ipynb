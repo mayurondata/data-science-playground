{
 "cells": [
  {
   "cell_type": "markdown",
   "id": "1fce7920",
   "metadata": {},
   "source": [
    "## OOPs Prerequisites in Python\n",
    "\n",
    "This notebook covers the essential prerequisites for understanding Object-Oriented Programming (OOP) concepts in Python.\n",
    "\n",
    "We’ll go through:\n",
    "\n",
    "- What classes and objects are\n",
    "- How to define and use classes\n",
    "- Class variables vs instance variables\n",
    "- Instance methods\n",
    "- Class methods\n",
    "- Static methods\n",
    "- Property decorators (`@property`, `@setter`, `@deleter`)\n"
   ]
  },
  {
   "cell_type": "markdown",
   "id": "29ead3fb",
   "metadata": {},
   "source": [
    "##  What is Object-Oriented Programming?\n",
    "Object-Oriented Programming (OOP) is a programming paradigm based on the concept of **objects**. These objects can contain data, in the form of **attributes**, and code, in the form of **methods**. Python is an object-oriented language, and understanding these concepts is crucial for writing clean, modular, and reusable code."
   ]
  },
  {
   "cell_type": "markdown",
   "id": "b5e4045d",
   "metadata": {},
   "source": [
    "## Classes and Objects"
   ]
  },
  {
   "cell_type": "code",
   "execution_count": 8,
   "id": "1ba5bb35",
   "metadata": {},
   "outputs": [],
   "source": [
    "class Emlpoyee():\n",
    "    pass          # the code here is doing nothing \n",
    "# if we have to add data , we can add data like so \n",
    "e1 = Employee()\n",
    "e1.name = 'john'\n",
    "e1.pay = '1200'\n",
    "# but we have to create many variables and add add information and add information like this \n",
    "# insted we can do something like this"
   ]
  },
  {
   "cell_type": "code",
   "execution_count": 17,
   "id": "62dba9e6",
   "metadata": {},
   "outputs": [],
   "source": [
    "class Employee():\n",
    "    def __init__(self , first , last):\n",
    "        self.first = first \n",
    "        self.last = last \n",
    "# the self here represents instance that we create \n",
    "# the __init__ is called initiate method.\n",
    "# we can create methods withing a class , they recieve  the instance as the first arguement \n",
    "# automatically\n",
    "class Employee():\n",
    "    def __init__(self , first , last , pay): \n",
    "        self.first = first \n",
    "        self.last = last \n",
    "        self.pay = pay\n",
    "        self.email = first + '.' + 'last' + '@company.com'\n",
    "# the arguements passed in __init__ need not necessarily be in self.---,---\n",
    "# also the names can be different so we could do something like: \n",
    "# ----> self.fname = first "
   ]
  },
  {
   "cell_type": "code",
   "execution_count": 8,
   "id": "5b865cdd",
   "metadata": {},
   "outputs": [],
   "source": [
    "# we can create employees like this : \n",
    "e1  = Employee('john' , 'smith' , 1000)\n",
    "\n",
    "# suppose this is a method within a class \n",
    "def fullname():\n",
    "    return f\"{first} {last}\"\n",
    "# and we create an instance from this class and call the fullname method this will return \n",
    "# error saying \n",
    "    # \"fullname takes no positional arguements but 1 was given\"\n",
    "# this is precisely because as self is not passed in  fullname method.\n",
    "# when we call methods of classes directly like \n",
    "# Employee.fullname(e1)\n",
    "# we need to pass instance as the arguement."
   ]
  },
  {
   "cell_type": "code",
   "execution_count": null,
   "id": "c2d44f06",
   "metadata": {},
   "outputs": [
    {
     "name": "stdout",
     "output_type": "stream",
     "text": [
      "Woof! I'm Buddy and I'm a Golden Retriever!\n",
      "Woof! I'm Buddy and I'm a Golden Retriever!\n"
     ]
    }
   ],
   "source": [
    "# Another example of a simple class \n",
    "# A simple class definition\n",
    "class Dog:\n",
    "    def __init__(self, name, breed):\n",
    "        self.name = name  # instance variable\n",
    "        self.breed = breed\n",
    "    \n",
    "    def bark(self):\n",
    "        print(f\"Woof! I'm {self.name} and I'm a {self.breed}!\")\n",
    "\n",
    "# Creating an object of the Dog class\n",
    "my_dog = Dog(\"Buddy\", \"Golden Retriever\")\n",
    "my_dog.bark()  # Calls the bark method\n",
    "Dog.bark(my_dog) "
   ]
  },
  {
   "cell_type": "markdown",
   "id": "bffd95b1",
   "metadata": {},
   "source": [
    "### Class variables\n",
    "- class variables are those variables that are shared among every method, instance variables are unique for each instance , class variables are same "
   ]
  },
  {
   "cell_type": "code",
   "execution_count": 13,
   "id": "e749c490",
   "metadata": {},
   "outputs": [
    {
     "name": "stdout",
     "output_type": "stream",
     "text": [
      "40000\n",
      "41600.0\n"
     ]
    }
   ],
   "source": [
    "# lets consider the Employee class again \n",
    "class Employee():\n",
    "    def __init__(self , first ,last , pay):\n",
    "        self.fname = first \n",
    "        self.lname = last \n",
    "        self.pay = pay \n",
    "    def get_raise(self):\n",
    "        self.pay = self.pay * 1.04 #let's say 4% increment\n",
    "\n",
    "emp_1 = Employee('john', 'smith', 40000)\n",
    "print(emp_1.pay)\n",
    "emp_1.get_raise()\n",
    "print(emp_1.pay)"
   ]
  },
  {
   "cell_type": "markdown",
   "id": "39013b95",
   "metadata": {},
   "source": [
    "- let's say we want to update our raise amount , to do that we have to go to get_raise()\n",
    " method and update 1.04 manually , to do it more effectively we could use a class variable"
   ]
  },
  {
   "cell_type": "code",
   "execution_count": 26,
   "id": "276bb41b",
   "metadata": {},
   "outputs": [],
   "source": [
    "class Employee():\n",
    "    raise_amount = 1.04 \n",
    "    def __init__(self , first ,last , pay):\n",
    "        self.fname = first \n",
    "        self.lname = last \n",
    "        self.pay = pay \n",
    "    def get_raise(self):\n",
    "        self.pay = self.pay * self.raise_amount #let's say 4% increment\n",
    "# to use this we can use Employee.raise_amount or we can also use self.raise_amount but \n",
    "# we cannot just say raise_amount alone.\n",
    "e1 = Employee('John' , 'Smith' ,40000)"
   ]
  },
  {
   "cell_type": "markdown",
   "id": "aeca422e",
   "metadata": {},
   "source": [
    "- To use class variables we need to access them through class itself or through instance\n",
    "    - the reason we can access class variables through instance is when we try to acces an attribute on an instance it will first check if the instance contains that attribute , if not , it will check if the class contains that attribute and assign it to the \n",
    "    instance to better understand : "
   ]
  },
  {
   "cell_type": "code",
   "execution_count": 30,
   "id": "68d0c88d",
   "metadata": {},
   "outputs": [
    {
     "name": "stdout",
     "output_type": "stream",
     "text": [
      "{'fname': 'John', 'lname': 'Smith', 'pay': 40000}\n",
      "{'__module__': '__main__', 'raise_amount': 1.04, '__init__': <function Employee.__init__ at 0x0000025D555B2340>, 'get_raise': <function Employee.get_raise at 0x0000025D555B94E0>, '__dict__': <attribute '__dict__' of 'Employee' objects>, '__weakref__': <attribute '__weakref__' of 'Employee' objects>, '__doc__': None}\n"
     ]
    }
   ],
   "source": [
    "print(e1.__dict__)\n",
    "print(Employee.__dict__)\n",
    "# the name space of e1 doesnot contain raise amount , but the name space of Empolyee has it \n",
    "# so as instance dosnot have attribute raise_amount it will search in class variables if it's there it will assign it "
   ]
  },
  {
   "cell_type": "code",
   "execution_count": 31,
   "id": "229e8dd8",
   "metadata": {},
   "outputs": [
    {
     "name": "stdout",
     "output_type": "stream",
     "text": [
      "1.04\n",
      "1.04\n",
      "1.05\n"
     ]
    }
   ],
   "source": [
    "print(e1.raise_amount) #---> 1.04 \n",
    "e1.raise_amount = 1.05\n",
    "print(Employee.raise_amount)\n",
    "print(e1.raise_amount)\n",
    "# suppose we want to increment john Smiths salary by 5% instead of 4% we can do this --> e1.raise_amount = 1.05 4\n",
    "# no now the name space of e1 has the raise_amount attribute , and it his salary will be incremented by 5% "
   ]
  },
  {
   "cell_type": "markdown",
   "id": "a6c3b02a",
   "metadata": {},
   "source": [
    "# Class methods , static methods , plain methods"
   ]
  },
  {
   "cell_type": "markdown",
   "id": "e4bcc978",
   "metadata": {},
   "source": [
    " - **plain methods** thake 'self' or instance as first arguement automatically\n",
    " - **class methods** take 'cls' or class as first arguement automatically\n",
    " - static methods take neither class nor the instance as the first arguement \n",
    " - we can run **class methods** from instances! "
   ]
  },
  {
   "cell_type": "code",
   "execution_count": null,
   "id": "613eec0e",
   "metadata": {},
   "outputs": [
    {
     "name": "stdout",
     "output_type": "stream",
     "text": [
      "('instance method called', <__main__.MyClass object at 0x0000025D553D8BD0>)\n",
      "('class method called', <class '__main__.MyClass'>)\n",
      "static method called\n"
     ]
    }
   ],
   "source": [
    "class MyClass():\n",
    "    def method(self):\n",
    "        return 'instance method called' , self\n",
    "    @classmethod\n",
    "    def classmethod(cls):\n",
    "        return 'class method called' , cls \n",
    "    @staticmethod\n",
    "    def staticmethod():            # more or less like regular functions\n",
    "        return 'static method called'\n",
    "    \n",
    "\n",
    "# we can use '.' notation in front of any instance from that class and say any of these:\n",
    "#         ---> obj.method\n",
    "#         ---> obj.classmethod\n",
    "#         ---> obj.staticmethod\n",
    "    \n",
    "object1 = MyClass()\n",
    "print(object1.method())\n",
    "print(object1.classmethod())\n",
    "print(object1.staticmethod())\n"
   ]
  },
  {
   "cell_type": "markdown",
   "id": "205fa654",
   "metadata": {},
   "source": [
    "- **INSTANCE METHODS**\n",
    "    - can modify object instance state \n",
    "    - can modify class state \n",
    "- **CLASS METHODS**\n",
    "    - cannot modify object instance state \n",
    "    - can modify class state \n",
    "    -(it has access only to classes and not instances of classes)\n",
    "- **STATIC METHODS**\n",
    "    - Cannot modify instance state \n",
    "    - Cannot modify class state"
   ]
  },
  {
   "cell_type": "code",
   "execution_count": 51,
   "id": "67f97765",
   "metadata": {},
   "outputs": [
    {
     "name": "stdout",
     "output_type": "stream",
     "text": [
      "1.04\n",
      "1.06\n",
      "1.06\n",
      "1.06\n"
     ]
    }
   ],
   "source": [
    "from datetime import datetime\n",
    "class Employee:\n",
    "    # Class variable\n",
    "    raise_amount = 1.04\n",
    "\n",
    "    def __init__(self, first, last, pay):\n",
    "        self.fname = first\n",
    "        self.lname = last\n",
    "        self.pay = pay\n",
    "\n",
    "    # Instance method: works on individual objects\n",
    "    def get_raise(self):\n",
    "        self.pay = self.pay * self.raise_amount\n",
    "        return f\"{self.fname} got a raise! New pay: ₹{self.pay:.2f}\"\n",
    "\n",
    "    # Class method: modifies class-level data\n",
    "    @classmethod\n",
    "    def set_raise_amount(cls, amount):\n",
    "        cls.raise_amount = amount\n",
    "        return f\"Raise amount set to {amount}\"\n",
    "\n",
    "    # Static method: utility function (doesn't use self or cls)\n",
    "    @staticmethod\n",
    "    def is_workday(date):\n",
    "        if date.weekday() in (5, 6):  # 5 = Saturday, 6 = Sunday\n",
    "            return False\n",
    "        return True\n",
    "    \n",
    "# Create two employees\n",
    "emp1 = Employee(\"john\", \"Smith\", 50000)\n",
    "emp2 = Employee(\"Alex\", \"Trump\", 60000)\n",
    "\n",
    "print(Employee.raise_amount)  # 1.04\n",
    "emp2.set_raise_amount(1.06)   # Called from instance\n",
    "print(Employee.raise_amount)  # ✅ Now becomes 1.06\n",
    "print(emp1.raise_amount)      # ✅ Uses updated class var: 1.06\n",
    "print(emp2.raise_amount)      # ✅ Also 1.06\n"
   ]
  },
  {
   "cell_type": "markdown",
   "id": "9cd3a29d",
   "metadata": {},
   "source": [
    "# Property Decorators in Python\n",
    "\n",
    "Property decorators (`@property`, `@<name>.setter`, `@<name>.deleter`) allow methods to be accessed like attributes.\n",
    "\n",
    "They are useful when:\n",
    "- An attribute depends on other values (e.g., `email` from `first` and `last`)\n",
    "- We need to validate or control how a value is set\n",
    "- We want to avoid breaking existing code when switching between methods and attributes\n",
    "\n",
    "They help implement encapsulation in a more readable and Pythonic way.\n"
   ]
  },
  {
   "cell_type": "markdown",
   "id": "46c53505",
   "metadata": {},
   "source": [
    "### The problem : **Attribute** Doesn't Auto-Update"
   ]
  },
  {
   "cell_type": "code",
   "execution_count": 26,
   "id": "beb00052",
   "metadata": {},
   "outputs": [
    {
     "name": "stdout",
     "output_type": "stream",
     "text": [
      "John.Smith@email.com\n",
      "John.Smith@email.com\n",
      "Jim\n",
      "Jim Smith\n"
     ]
    }
   ],
   "source": [
    "class Employee:\n",
    "    def __init__(self, first, last):\n",
    "        self.first = first\n",
    "        self.last = last\n",
    "        self.email = f\"{first}.{last}@email.com\"  # set once\n",
    "\n",
    "    def full_name(self):\n",
    "        return f\"{self.first} {self.last}\"\n",
    "    \n",
    "emp_1 = Employee('John', 'Smith')\n",
    "print(emp_1.email)  # John.Smith@email.com\n",
    "\n",
    "emp_1.first = 'Jim'\n",
    "print(emp_1.email)  # Still John.Smith@email.com ❌\n",
    "print(emp_1.first)\n",
    "print(emp_1.full_name()) # method fot updated \n",
    "# Although we updated first, email still shows the old name.\n",
    "# That’s because it was set once and doesn’t auto-update."
   ]
  },
  {
   "cell_type": "markdown",
   "id": "a395b1a1",
   "metadata": {},
   "source": [
    "### 2️⃣ The Solution: @property (Getter)\n",
    "We remove email from __init__ and turn it into a property, so it’s recalculated each time we access it.\n",
    "\n"
   ]
  },
  {
   "cell_type": "code",
   "execution_count": null,
   "id": "824d527a",
   "metadata": {},
   "outputs": [
    {
     "name": "stdout",
     "output_type": "stream",
     "text": [
      "John.Smith@email.com\n",
      "Jim.Smith@email.com\n",
      "Jim Smith\n"
     ]
    }
   ],
   "source": [
    "class Employee:\n",
    "    def __init__(self, first, last):\n",
    "        self.first = first\n",
    "        self.last = last\n",
    "\n",
    "    @property\n",
    "    def email(self):\n",
    "        return f\"{self.first}.{self.last}@email.com\"\n",
    "    \n",
    "    def full_name(self):\n",
    "        return f\"{self.first} {self.last}\"\n",
    "\n",
    "# now we can do this: \n",
    "emp_1 = Employee('John', 'Smith')\n",
    "print(emp_1.email)  # John.Smith@email.com\n",
    "\n",
    "emp_1.first = 'Jim'\n",
    "print(emp_1.email)  # Jim.Smith@email.com ✅ # notice email is not called like other methods.\n",
    "print(emp_1.full_name())\n",
    "# We're now treating email like a dynamic attribute \n",
    "# — looks like a variable, works like a method."
   ]
  },
  {
   "cell_type": "markdown",
   "id": "64a6cbde",
   "metadata": {},
   "source": [
    "### - Adding @full_name.setter\n",
    "- Suppose we want to update both first and last by assigning a new full_name. We can use a setter:"
   ]
  },
  {
   "cell_type": "markdown",
   "id": "45bd6deb",
   "metadata": {},
   "source": [
    "### Naming Rule for `@property.setter`\n",
    "\n",
    "The method decorated with `@<property>.setter` **must have the same name** as the property it modifies.\n",
    "\n",
    "- ✅ Correct:\n",
    "  ```python\n",
    "  @property\n",
    "  def full_name(self): ...\n",
    "\n",
    "  @full_name.setter\n",
    "  def full_name(self, name): ...\n",
    "- Any method decorated with @property behaves like a read-only attribute.\n"
   ]
  },
  {
   "cell_type": "code",
   "execution_count": null,
   "id": "f26abd43",
   "metadata": {},
   "outputs": [
    {
     "name": "stdout",
     "output_type": "stream",
     "text": [
      "Corey\n",
      "Schafer\n",
      "Corey.Schafer@email.com\n"
     ]
    }
   ],
   "source": [
    "class Employee:\n",
    "    def __init__(self, first, last):\n",
    "        self.first = first\n",
    "        self.last = last\n",
    " \n",
    "    @property  \n",
    "    def full_name(self):\n",
    "        return f\"{self.first} {self.last}\"\n",
    "    \n",
    "    @property\n",
    "    def email(self):\n",
    "        return f\"{self.first}.{self.last}@email.com\"\n",
    "\n",
    "    @full_name.setter\n",
    "    def full_name(self, name):\n",
    "        first, last = name.split(' ')\n",
    "        self.first = first\n",
    "        self.last = last\n",
    "\n",
    "emp_1 = Employee('John', 'Smith')\n",
    "emp_1.full_name = 'Corey Schafer'  # Updates both first and last\n",
    "\n",
    "print(emp_1.first)  # Corey\n",
    "print(emp_1.last)   # Schafer\n",
    "print(emp_1.email)  # Corey.Schafer@email.com ✅\n",
    "# Now, full_name acts like a two-way street — we can read it and assign to it.\n"
   ]
  },
  {
   "cell_type": "markdown",
   "id": "07eb12ff",
   "metadata": {},
   "source": [
    "### 4️⃣ Adding @full_name.deleter\n",
    "- If we want to clean up or reset values when deleting full_name, we can use a deleter:"
   ]
  },
  {
   "cell_type": "code",
   "execution_count": 28,
   "id": "8b403a92",
   "metadata": {},
   "outputs": [
    {
     "name": "stdout",
     "output_type": "stream",
     "text": [
      "Deleted full_name!\n",
      "None\n",
      "None\n"
     ]
    }
   ],
   "source": [
    "class Employee:\n",
    "    def __init__(self, first, last):\n",
    "        self.first = first\n",
    "        self.last = last\n",
    "\n",
    "    @property\n",
    "    def email(self):\n",
    "        self.email = first + last +'@email.com'\n",
    "    @property\n",
    "    def full_name(self):\n",
    "        return f\"{self.first} {self.last}\"\n",
    "\n",
    "    @full_name.deleter\n",
    "    def full_name(self):\n",
    "        print('Deleted full_name!')\n",
    "        self.first = None\n",
    "        self.last = None\n",
    "emp_1 = Employee('Corey', 'Schafer')\n",
    "del emp_1.full_name  # Triggers deleter\n",
    "\n",
    "print(emp_1.first)  # None\n",
    "print(emp_1.last)   # None\n",
    "# The deleter allows us to define what happens when a property is deleted \n",
    "# using del."
   ]
  },
  {
   "cell_type": "markdown",
   "id": "9c4210bb",
   "metadata": {},
   "source": []
  },
  {
   "cell_type": "code",
   "execution_count": null,
   "id": "9add6a86",
   "metadata": {},
   "outputs": [],
   "source": []
  },
  {
   "cell_type": "code",
   "execution_count": null,
   "id": "4bc0b31e",
   "metadata": {},
   "outputs": [],
   "source": []
  }
 ],
 "metadata": {
  "kernelspec": {
   "display_name": "Python 3",
   "language": "python",
   "name": "python3"
  },
  "language_info": {
   "codemirror_mode": {
    "name": "ipython",
    "version": 3
   },
   "file_extension": ".py",
   "mimetype": "text/x-python",
   "name": "python",
   "nbconvert_exporter": "python",
   "pygments_lexer": "ipython3",
   "version": "3.11.1"
  }
 },
 "nbformat": 4,
 "nbformat_minor": 5
}

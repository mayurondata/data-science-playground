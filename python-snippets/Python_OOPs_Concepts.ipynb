{
 "cells": [
  {
   "cell_type": "markdown",
   "id": "1fce7920",
   "metadata": {},
   "source": [
    "## OOPs Concepts \n",
    "This notebook covers all key Object-Oriented Programming (OOP) concepts in Python with clear explanations and examples."
   ]
  },
  {
   "cell_type": "markdown",
   "id": "29ead3fb",
   "metadata": {},
   "source": [
    "## 🧠 What is Object-Oriented Programming?\n",
    "Object-Oriented Programming (OOP) is a programming paradigm based on the concept of **objects**. These objects can contain data, in the form of **attributes**, and code, in the form of **methods**. Python is an object-oriented language, and understanding these concepts is crucial for writing clean, modular, and reusable code."
   ]
  },
  {
   "cell_type": "markdown",
   "id": "b5e4045d",
   "metadata": {},
   "source": [
    "## 📦 Classes and Objects"
   ]
  },
  {
   "cell_type": "code",
   "execution_count": 8,
   "id": "1ba5bb35",
   "metadata": {},
   "outputs": [],
   "source": [
    "class Emlpoyee():\n",
    "    pass          # the code here is doing nothing \n",
    "# if we have to add data , we can add data like so \n",
    "e1 = Employee()\n",
    "e1.name = 'john'\n",
    "e1.pay = '1200'\n",
    "# but we have to create many variables and add add information and add information like this \n",
    "# insted we can do something like this"
   ]
  },
  {
   "cell_type": "code",
   "execution_count": 17,
   "id": "62dba9e6",
   "metadata": {},
   "outputs": [],
   "source": [
    "class Employee():\n",
    "    def __init__(self , first , last):\n",
    "        self.first = first \n",
    "        self.last = last \n",
    "# the self here represents instance that we create \n",
    "# the __init__ is called initiate method.\n",
    "# we can create methods withing a class , they recieve  the instance as the first arguement \n",
    "# automatically\n",
    "class Employee():\n",
    "    def __init__(self , first , last , pay): \n",
    "        self.first = first \n",
    "        self.last = last \n",
    "        self.pay = pay\n",
    "        self.email = first + '.' + 'last' + '@company.com'\n",
    "# the arguements passed in __init__ need not necessarily be in self.---,---\n",
    "# also the names can be different so we could do something like: \n",
    "# ----> self.fname = first "
   ]
  },
  {
   "cell_type": "code",
   "execution_count": 8,
   "id": "5b865cdd",
   "metadata": {},
   "outputs": [],
   "source": [
    "# we can create employees like this : \n",
    "e1  = Employee('john' , 'smith' , 1000)\n",
    "\n",
    "# suppose this is a method within a class \n",
    "def fullname():\n",
    "    return f\"{first} {last}\"\n",
    "# and we create an instance from this class and call the fullname method this will return \n",
    "# error saying \n",
    "    # \"fullname takes no positional arguements but 1 was given\"\n",
    "# this is precisely because as self is not passed in  fullname method.\n",
    "# when we call methods of classes directly like \n",
    "# Employee.fullname(e1)\n",
    "# we need to pass instance as the arguement."
   ]
  },
  {
   "cell_type": "code",
   "execution_count": null,
   "id": "c2d44f06",
   "metadata": {},
   "outputs": [
    {
     "name": "stdout",
     "output_type": "stream",
     "text": [
      "Woof! I'm Buddy and I'm a Golden Retriever!\n",
      "Woof! I'm Buddy and I'm a Golden Retriever!\n"
     ]
    }
   ],
   "source": [
    "# Another example of a simple class \n",
    "# A simple class definition\n",
    "class Dog:\n",
    "    def __init__(self, name, breed):\n",
    "        self.name = name  # instance variable\n",
    "        self.breed = breed\n",
    "    \n",
    "    def bark(self):\n",
    "        print(f\"Woof! I'm {self.name} and I'm a {self.breed}!\")\n",
    "\n",
    "# Creating an object of the Dog class\n",
    "my_dog = Dog(\"Buddy\", \"Golden Retriever\")\n",
    "my_dog.bark()  # Calls the bark method\n",
    "Dog.bark(my_dog) "
   ]
  },
  {
   "cell_type": "markdown",
   "id": "bffd95b1",
   "metadata": {},
   "source": [
    "### Class variables\n",
    "- class variables are those variables that are shared among every method, instance variables are unique for each instance , class variables are same "
   ]
  },
  {
   "cell_type": "code",
   "execution_count": 13,
   "id": "e749c490",
   "metadata": {},
   "outputs": [
    {
     "name": "stdout",
     "output_type": "stream",
     "text": [
      "40000\n",
      "41600.0\n"
     ]
    }
   ],
   "source": [
    "# lets consider the Employee class again \n",
    "class Employee():\n",
    "    def __init__(self , first ,last , pay):\n",
    "        self.fname = first \n",
    "        self.lname = last \n",
    "        self.pay = pay \n",
    "    def get_raise(self):\n",
    "        self.pay = self.pay * 1.04 #let's say 4% increment\n",
    "\n",
    "emp_1 = Employee('john', 'smith', 40000)\n",
    "print(emp_1.pay)\n",
    "emp_1.get_raise()\n",
    "print(emp_1.pay)"
   ]
  },
  {
   "cell_type": "markdown",
   "id": "39013b95",
   "metadata": {},
   "source": [
    "- let's say we want to update our raise amount , to do that we have to go to get_raise()\n",
    " method and update 1.04 manually , to do it more effectively we could use a class variable"
   ]
  },
  {
   "cell_type": "code",
   "execution_count": 26,
   "id": "276bb41b",
   "metadata": {},
   "outputs": [],
   "source": [
    "class Employee():\n",
    "    raise_amount = 1.04 \n",
    "    def __init__(self , first ,last , pay):\n",
    "        self.fname = first \n",
    "        self.lname = last \n",
    "        self.pay = pay \n",
    "    def get_raise(self):\n",
    "        self.pay = self.pay * self.raise_amount #let's say 4% increment\n",
    "# to use this we can use Employee.raise_amount or we can also use self.raise_amount but \n",
    "# we cannot just say raise_amount alone.\n",
    "e1 = Employee('John' , 'Smith' ,40000)"
   ]
  },
  {
   "cell_type": "markdown",
   "id": "aeca422e",
   "metadata": {},
   "source": [
    "- To use class variables we need to access them through class itself or through instance\n",
    "    - the reason we can access class variables through instance is when we try to acces an attribute on an instance it will first check if the instance contains that attribute , if not , it will check if the class contains that attribute and assign it to the \n",
    "    instance to better understand : "
   ]
  },
  {
   "cell_type": "code",
   "execution_count": 30,
   "id": "68d0c88d",
   "metadata": {},
   "outputs": [
    {
     "name": "stdout",
     "output_type": "stream",
     "text": [
      "{'fname': 'John', 'lname': 'Smith', 'pay': 40000}\n",
      "{'__module__': '__main__', 'raise_amount': 1.04, '__init__': <function Employee.__init__ at 0x0000025D555B2340>, 'get_raise': <function Employee.get_raise at 0x0000025D555B94E0>, '__dict__': <attribute '__dict__' of 'Employee' objects>, '__weakref__': <attribute '__weakref__' of 'Employee' objects>, '__doc__': None}\n"
     ]
    }
   ],
   "source": [
    "print(e1.__dict__)\n",
    "print(Employee.__dict__)\n",
    "# the name space of e1 doesnot contain raise amount , but the name space of Empolyee has it \n",
    "# so as instance dosnot have attribute raise_amount it will search in class variables if it's there it will assign it "
   ]
  },
  {
   "cell_type": "code",
   "execution_count": 31,
   "id": "229e8dd8",
   "metadata": {},
   "outputs": [
    {
     "name": "stdout",
     "output_type": "stream",
     "text": [
      "1.04\n",
      "1.04\n",
      "1.05\n"
     ]
    }
   ],
   "source": [
    "print(e1.raise_amount) #---> 1.04 \n",
    "e1.raise_amount = 1.05\n",
    "print(Employee.raise_amount)\n",
    "print(e1.raise_amount)\n",
    "# suppose we want to increment john Smiths salary by 5% instead of 4% we can do this --> e1.raise_amount = 1.05 4\n",
    "# no now the name space of e1 has the raise_amount attribute , and it his salary will be incremented by 5% "
   ]
  },
  {
   "cell_type": "markdown",
   "id": "a6c3b02a",
   "metadata": {},
   "source": [
    "# Class methods , static methods , plain methods"
   ]
  },
  {
   "cell_type": "markdown",
   "id": "e4bcc978",
   "metadata": {},
   "source": [
    " - **plain methods** thake 'self' or instance as first arguement automatically\n",
    " - **class methods** take 'cls' or class as first arguement automatically\n",
    " - static methods take neither class nor the instance as the first arguement \n",
    " - we can run **class methods** from instances! "
   ]
  },
  {
   "cell_type": "code",
   "execution_count": null,
   "id": "613eec0e",
   "metadata": {},
   "outputs": [
    {
     "name": "stdout",
     "output_type": "stream",
     "text": [
      "('instance method called', <__main__.MyClass object at 0x0000025D553D8BD0>)\n",
      "('class method called', <class '__main__.MyClass'>)\n",
      "static method called\n"
     ]
    }
   ],
   "source": [
    "class MyClass():\n",
    "    def method(self):\n",
    "        return 'instance method called' , self\n",
    "    @classmethod\n",
    "    def classmethod(cls):\n",
    "        return 'class method called' , cls \n",
    "    @staticmethod\n",
    "    def staticmethod():            # more or less like regular functions\n",
    "        return 'static method called'\n",
    "    \n",
    "\n",
    "# we can use '.' notation in front of any instance from that class and say any of these:\n",
    "#         ---> obj.method\n",
    "#         ---> obj.classmethod\n",
    "#         ---> obj.staticmethod\n",
    "    \n",
    "object1 = MyClass()\n",
    "print(object1.method())\n",
    "print(object1.classmethod())\n",
    "print(object1.staticmethod())\n"
   ]
  },
  {
   "cell_type": "markdown",
   "id": "205fa654",
   "metadata": {},
   "source": [
    "- **INSTANCE METHODS**\n",
    "    - can modify object instance state \n",
    "    - can modify class state \n",
    "- **CLASS METHODS**\n",
    "    - cannot modify object instance state \n",
    "    - can modify class state \n",
    "    -(it has access only to classes and not instances of classes)\n",
    "- **STATIC METHODS**\n",
    "    - Cannot modify instance state \n",
    "    - Cannot modify class state"
   ]
  },
  {
   "cell_type": "code",
   "execution_count": 51,
   "id": "67f97765",
   "metadata": {},
   "outputs": [
    {
     "name": "stdout",
     "output_type": "stream",
     "text": [
      "1.04\n",
      "1.06\n",
      "1.06\n",
      "1.06\n"
     ]
    }
   ],
   "source": [
    "from datetime import datetime\n",
    "class Employee:\n",
    "    # Class variable\n",
    "    raise_amount = 1.04\n",
    "\n",
    "    def __init__(self, first, last, pay):\n",
    "        self.fname = first\n",
    "        self.lname = last\n",
    "        self.pay = pay\n",
    "\n",
    "    # Instance method: works on individual objects\n",
    "    def get_raise(self):\n",
    "        self.pay = self.pay * self.raise_amount\n",
    "        return f\"{self.fname} got a raise! New pay: ₹{self.pay:.2f}\"\n",
    "\n",
    "    # Class method: modifies class-level data\n",
    "    @classmethod\n",
    "    def set_raise_amount(cls, amount):\n",
    "        cls.raise_amount = amount\n",
    "        return f\"Raise amount set to {amount}\"\n",
    "\n",
    "    # Static method: utility function (doesn't use self or cls)\n",
    "    @staticmethod\n",
    "    def is_workday(date):\n",
    "        if date.weekday() in (5, 6):  # 5 = Saturday, 6 = Sunday\n",
    "            return False\n",
    "        return True\n",
    "    \n",
    "# Create two employees\n",
    "emp1 = Employee(\"john\", \"Smith\", 50000)\n",
    "emp2 = Employee(\"Alex\", \"Trump\", 60000)\n",
    "\n",
    "print(Employee.raise_amount)  # 1.04\n",
    "emp2.set_raise_amount(1.06)   # Called from instance\n",
    "print(Employee.raise_amount)  # ✅ Now becomes 1.06\n",
    "print(emp1.raise_amount)      # ✅ Uses updated class var: 1.06\n",
    "print(emp2.raise_amount)      # ✅ Also 1.06\n"
   ]
  },
  {
   "cell_type": "markdown",
   "id": "767df8cc",
   "metadata": {},
   "source": [
    "## Parent classes child classes and inheritance"
   ]
  },
  {
   "cell_type": "markdown",
   "id": "89db74cb",
   "metadata": {},
   "source": [
    "- let's say we want to create developer , Manager class and we want to have  the same functionalities of Employee class and provdies \n",
    "  some extra fuctionalities to child class \n",
    "- creating child class that will inherit from parent class"
   ]
  },
  {
   "cell_type": "code",
   "execution_count": 60,
   "id": "b659c283",
   "metadata": {},
   "outputs": [],
   "source": [
    "class Employee:\n",
    "    raise_amount = 1.04\n",
    "\n",
    "    def __init__(self, first, last, pay):\n",
    "        self.fname = first\n",
    "        self.lname = last\n",
    "        self.pay = pay\n",
    "        self.email = f\"{first}{last}@abccompany.com\"\n",
    "\n",
    "    def get_raise(self):\n",
    "        self.pay = self.pay * self.raise_amount\n",
    "        return f\"{self.fname} got a raise! New pay: ₹{self.pay:.2f}\"\n",
    "\n",
    "    def full_name(self):\n",
    "        return f\"{self.fname} {self.lname}\"\n",
    "    \n",
    "class Developer(Employee):\n",
    "    def __init__(self, first, last, pay, prog_lang):\n",
    "        super().__init__(first, last, pay)  # Inherits from Employee\n",
    "        self.prog_lang = prog_lang  # New attribute\n",
    "class Manager(Employee):\n",
    "    def __init__(self, first, last, pay, employees=None):\n",
    "        super().__init__(first, last, pay)  # Inherit Employee's init\n",
    "        if employees is None:\n",
    "            self.employees = []\n",
    "        else:\n",
    "            self.employees = employees\n",
    "\n",
    "    def add_employee(self, emp):\n",
    "        if emp not in self.employees:\n",
    "            self.employees.append(emp)\n",
    "\n",
    "    def remove_employee(self, emp):\n",
    "        if emp in self.employees:\n",
    "            self.employees.remove(emp)\n",
    "\n",
    "    def list_employees(self):\n",
    "        return [emp.full_name() for emp in self.employees]\n"
   ]
  },
  {
   "cell_type": "markdown",
   "id": "8592b7fe",
   "metadata": {},
   "source": [
    "- The **`super()`** function is a special built-in function that allows us to call methods and attributes from the parent class.\n",
    "- When we call **`super().__init__()`**, it invokes the `__init__` method of the parent class, allowing the child class to initialize attributes defined in the parent.\n",
    "- This helps the child class inherit and reuse code from the parent class without rewriting it.\n",
    "- Using **`super().__init__()`** only initializes the attributes defined in the parent class's `__init__` method.\n",
    "- However, all **methods and class-level attributes** of the parent class are already accessible to the child class through inheritance — even without calling `super()`.\n",
    "- So, **`super().__init__()` gives access to parent class instance attributes**, but the child class automatically inherits all other methods and variables from the parent.\n"
   ]
  },
  {
   "cell_type": "code",
   "execution_count": 61,
   "id": "66c46ffa",
   "metadata": {},
   "outputs": [
    {
     "name": "stdout",
     "output_type": "stream",
     "text": [
      "Mayuresh Joshi - Python\n",
      "MayureshJoshi@abccompany.com\n",
      "Sanjay Nair - manages:\n",
      "['Mayuresh Joshi']\n",
      "After adding another employee: ['Mayuresh Joshi', 'Riya Kapoor']\n",
      "Sanjay got a raise! New pay: ₹104000.00\n"
     ]
    }
   ],
   "source": [
    "# Create Developer objects\n",
    "dev1 = Developer(\"Mayuresh\", \"Joshi\", 70000, \"Python\")\n",
    "dev2 = Developer(\"Riya\", \"Kapoor\", 75000, \"JavaScript\")\n",
    "\n",
    "# Create Manager with dev1 under management\n",
    "mgr = Manager(\"Sanjay\", \"Nair\", 100000, [dev1])\n",
    "\n",
    "# Show full name and programming language\n",
    "print(dev1.full_name(), \"-\", dev1.prog_lang)\n",
    "print(dev1.email)\n",
    "\n",
    "# Manager details\n",
    "print(mgr.full_name(), \"- manages:\")\n",
    "print(mgr.list_employees())\n",
    "\n",
    "# Add another developer\n",
    "mgr.add_employee(dev2)\n",
    "print(\"After adding another employee:\", mgr.list_employees())\n",
    "\n",
    "# Give raise to manager\n",
    "print(mgr.get_raise())\n"
   ]
  },
  {
   "cell_type": "markdown",
   "id": "cf9eb396",
   "metadata": {},
   "source": [
    "### ✅ isinstance() vs issubclass()\n",
    "\n",
    "- **`isinstance(object, class)`** → Checks if an object is an instance of a class or its subclass.\n",
    "- **`issubclass(class1, class2)`** → Checks if one class is a subclass of another.\n",
    "\n",
    "---\n",
    "\n",
    "**Examples:**\n",
    "```python\n",
    "isinstance(dev, Employee)      # ✅ True — dev is an instance of Developer, which inherits from Employee\n",
    "issubclass(Developer, Employee) # ✅ True — Developer is a subclass of Employee\n"
   ]
  },
  {
   "cell_type": "code",
   "execution_count": 70,
   "id": "3a4c6736",
   "metadata": {},
   "outputs": [
    {
     "name": "stdout",
     "output_type": "stream",
     "text": [
      "True\n",
      "True\n",
      "False\n",
      "True\n",
      "True\n",
      "False\n",
      "True\n"
     ]
    }
   ],
   "source": [
    "# isinstance() checks\n",
    "print(isinstance(dev1, Developer))   # ✅ True\n",
    "print(isinstance(dev1, Employee))    # ✅ True (Developer is a subclass of Employee)\n",
    "print(isinstance(mgr, Developer))   # ❌ False\n",
    "\n",
    "# issubclass() checks\n",
    "print(issubclass(Developer, Employee))  # ✅ True\n",
    "print(issubclass(Manager, Employee))    # ✅ True\n",
    "print(issubclass(Employee, Developer))  # ❌ False\n",
    "print(issubclass(Manager, object))      # ✅ True (everything inherits from object)"
   ]
  },
  {
   "cell_type": "markdown",
   "id": "aa4e9ee4",
   "metadata": {},
   "source": [
    "- In `super().__init__()`, we pass the arguments **required by the parent class's constructor**, not necessarily ones that are shared with the child class.\n",
    "- This does **not disturb or change** the original parent class — it simply initializes it with the appropriate arguments from the child class.\n",
    "- The parent class stays completely untouched; we are just calling its `__init__()` method using `super()`.\n"
   ]
  },
  {
   "cell_type": "code",
   "execution_count": 68,
   "id": "941b6809",
   "metadata": {},
   "outputs": [
    {
     "name": "stdout",
     "output_type": "stream",
     "text": [
      "Whiskers says Meow!\n"
     ]
    }
   ],
   "source": [
    "# Base class\n",
    "class Animal:\n",
    "    def __init__(self, species):\n",
    "        self.species = species\n",
    "    \n",
    "    def make_sound(self):\n",
    "        print(\"Some generic animal sound\")\n",
    "\n",
    "# Derived class\n",
    "class Cat(Animal):\n",
    "    def __init__(self, name):\n",
    "        # super().__init__(species = \"Cat\")  # Call the base class constructor\n",
    "        self.name = name\n",
    "    \n",
    "    def make_sound(self): #Availible because of Inheritance and not super().__init__()\n",
    "        print(f\"{self.name} says Meow!\")\n",
    "\n",
    "kitty = Cat(\"Whiskers\")\n",
    "# print(kitty.species)\n",
    "kitty.make_sound()"
   ]
  },
  {
   "cell_type": "markdown",
   "id": "842134bb",
   "metadata": {},
   "source": [
    "# Tyeps of Inheritance \n",
    "- hierarchical\n",
    "- Multiple\n",
    "- Single\n",
    "- Multiclass\n",
    "- hybrid\n",
    "\n",
    "![Types of Inheritance](types-of-inheritance-in-python.png)\n"
   ]
  },
  {
   "cell_type": "code",
   "execution_count": 72,
   "id": "3e7ffd8a",
   "metadata": {},
   "outputs": [
    {
     "name": "stdout",
     "output_type": "stream",
     "text": [
      "----- 1. Single Inheritance -----\n",
      "Animal speaks\n",
      "Dog barks\n",
      "\n",
      "----- 2. Multiple Inheritance -----\n",
      "Can fly\n",
      "Can swim\n",
      "\n",
      "----- 3. Multilevel Inheritance -----\n",
      "Living being breathes\n",
      "Mammal walks\n",
      "Human speaks\n",
      "\n",
      "----- 4. Hierarchical Inheritance -----\n",
      "Vehicle started\n",
      "Car is driving\n",
      "Vehicle started\n",
      "Bike is riding\n",
      "\n",
      "----- 5. Hybrid Inheritance -----\n",
      "I am a person\n",
      "I study\n",
      "I work\n",
      "I can study and work\n"
     ]
    }
   ],
   "source": [
    "print(\"----- 1. Single Inheritance -----\")\n",
    "class Animal:\n",
    "    def speak(self):\n",
    "        print(\"Animal speaks\")\n",
    "\n",
    "class Dog(Animal):\n",
    "    def bark(self):\n",
    "        print(\"Dog barks\")\n",
    "\n",
    "d = Dog()\n",
    "d.speak()\n",
    "d.bark()\n",
    "\n",
    "# -------------------------------------\n",
    "print(\"\\n----- 2. Multiple Inheritance -----\")\n",
    "class Flyable:\n",
    "    def fly(self):\n",
    "        print(\"Can fly\")\n",
    "\n",
    "class Swimmable:\n",
    "    def swim(self):\n",
    "        print(\"Can swim\")\n",
    "\n",
    "class Duck(Flyable, Swimmable):\n",
    "    pass\n",
    "\n",
    "duck = Duck()\n",
    "duck.fly()\n",
    "duck.swim()\n",
    "\n",
    "# -------------------------------------\n",
    "print(\"\\n----- 3. Multilevel Inheritance -----\")\n",
    "class LivingBeing:\n",
    "    def breathe(self):\n",
    "        print(\"Living being breathes\")\n",
    "\n",
    "class Mammal(LivingBeing):\n",
    "    def walk(self):\n",
    "        print(\"Mammal walks\")\n",
    "\n",
    "class Human(Mammal):\n",
    "    def speak(self):\n",
    "        print(\"Human speaks\")\n",
    "\n",
    "h = Human()\n",
    "h.breathe()\n",
    "h.walk()\n",
    "h.speak()\n",
    "\n",
    "# -------------------------------------\n",
    "print(\"\\n----- 4. Hierarchical Inheritance -----\")\n",
    "class Vehicle:\n",
    "    def start(self):\n",
    "        print(\"Vehicle started\")\n",
    "\n",
    "class Car(Vehicle):\n",
    "    def drive(self):\n",
    "        print(\"Car is driving\")\n",
    "\n",
    "class Bike(Vehicle):\n",
    "    def ride(self):\n",
    "        print(\"Bike is riding\")\n",
    "\n",
    "c = Car()\n",
    "b = Bike()\n",
    "c.start()\n",
    "c.drive()\n",
    "b.start()\n",
    "b.ride()\n",
    "\n",
    "# -------------------------------------\n",
    "print(\"\\n----- 5. Hybrid Inheritance -----\")\n",
    "class Person:\n",
    "    def identity(self):\n",
    "        print(\"I am a person\")\n",
    "\n",
    "class Student(Person):\n",
    "    def study(self):\n",
    "        print(\"I study\")\n",
    "\n",
    "class Employee:\n",
    "    def work(self):\n",
    "        print(\"I work\")\n",
    "\n",
    "class WorkingStudent(Student, Employee):\n",
    "    def multitask(self):\n",
    "        print(\"I can study and work\")\n",
    "\n",
    "ws = WorkingStudent()\n",
    "ws.identity()\n",
    "ws.study()\n",
    "ws.work()\n",
    "ws.multitask()\n"
   ]
  },
  {
   "cell_type": "markdown",
   "id": "9c4210bb",
   "metadata": {},
   "source": [
    "## 🔒 Encapsulation"
   ]
  },
  {
   "cell_type": "code",
   "execution_count": null,
   "id": "4bc0b31e",
   "metadata": {},
   "outputs": [],
   "source": [
    "# Encapsulation using private variables\n",
    "class BankAccount:\n",
    "    def __init__(self, owner, balance):\n",
    "        self.owner = owner\n",
    "        self.__balance = balance  # Private variable\n",
    "\n",
    "    def deposit(self, amount):\n",
    "        self.__balance += amount\n",
    "        print(f\"Deposited ₹{amount}. New balance: ₹{self.__balance}\")\n",
    "    \n",
    "    def get_balance(self):\n",
    "        return self.__balance\n",
    "\n",
    "account = BankAccount(\"Mayuresh\", 10000)\n",
    "account.deposit(5000)\n",
    "print(account.get_balance())"
   ]
  },
  {
   "cell_type": "markdown",
   "id": "46a15701",
   "metadata": {},
   "source": [
    "## 🌀 Polymorphism"
   ]
  },
  {
   "cell_type": "code",
   "execution_count": null,
   "id": "31452f5c",
   "metadata": {},
   "outputs": [],
   "source": [
    "class Bird:\n",
    "    def make_sound(self):\n",
    "        print(\"Tweet\")\n",
    "\n",
    "class Duck:\n",
    "    def make_sound(self):\n",
    "        print(\"Quack\")\n",
    "\n",
    "def animal_sound(animal):\n",
    "    animal.make_sound()\n",
    "\n",
    "bird = Bird()\n",
    "duck = Duck()\n",
    "\n",
    "animal_sound(bird)\n",
    "animal_sound(duck)"
   ]
  },
  {
   "cell_type": "markdown",
   "id": "2b994f74",
   "metadata": {},
   "source": [
    "## 🎭 Abstraction"
   ]
  },
  {
   "cell_type": "code",
   "execution_count": null,
   "id": "c5670cc6",
   "metadata": {},
   "outputs": [],
   "source": [
    "from abc import ABC, abstractmethod\n",
    "\n",
    "# Abstract Base Class\n",
    "class Vehicle(ABC):\n",
    "    @abstractmethod\n",
    "    def start_engine(self):\n",
    "        pass\n",
    "\n",
    "# Concrete class\n",
    "class Car(Vehicle):\n",
    "    def start_engine(self):\n",
    "        print(\"Engine started for the car.\")\n",
    "\n",
    "my_car = Car()\n",
    "my_car.start_engine()"
   ]
  },
  {
   "cell_type": "markdown",
   "id": "967076cd",
   "metadata": {},
   "source": [
    "## 🔧 Special Methods (`__init__`, `__str__`, `__len__`, etc.)"
   ]
  },
  {
   "cell_type": "code",
   "execution_count": null,
   "id": "1dee4086",
   "metadata": {},
   "outputs": [],
   "source": [
    "class Book:\n",
    "    def __init__(self, title, pages):\n",
    "        self.title = title\n",
    "        self.pages = pages\n",
    "\n",
    "    def __str__(self):\n",
    "        return f\"{self.title} ({self.pages} pages)\"\n",
    "\n",
    "    def __len__(self):\n",
    "        return self.pages\n",
    "\n",
    "b = Book(\"Python Basics\", 350)\n",
    "print(b)\n",
    "print(len(b))"
   ]
  },
  {
   "cell_type": "markdown",
   "id": "60a23518",
   "metadata": {},
   "source": [
    "##"
   ]
  },
  {
   "cell_type": "markdown",
   "id": "ae14e532",
   "metadata": {},
   "source": [
    "# Property Decorators - Getters , Setters and Deleters"
   ]
  },
  {
   "cell_type": "code",
   "execution_count": null,
   "id": "28806c6c",
   "metadata": {},
   "outputs": [],
   "source": []
  },
  {
   "cell_type": "code",
   "execution_count": null,
   "id": "1ee1b4c9",
   "metadata": {},
   "outputs": [],
   "source": []
  },
  {
   "cell_type": "code",
   "execution_count": null,
   "id": "eb58d698",
   "metadata": {},
   "outputs": [],
   "source": []
  },
  {
   "cell_type": "markdown",
   "id": "afac596c",
   "metadata": {},
   "source": [
    "## ✅ Summary\n",
    "- **Class & Object**: Core building blocks.\n",
    "- **Inheritance**: Reuse and extend functionality.\n",
    "- **Encapsulation**: Hide internal details.\n",
    "- **Polymorphism**: Same interface, different behavior.\n",
    "- **Abstraction**: Define abstract base with mandatory methods.\n",
    "- **Dunder Methods**: Add magic to your classes!"
   ]
  }
 ],
 "metadata": {
  "kernelspec": {
   "display_name": "Python 3",
   "language": "python",
   "name": "python3"
  },
  "language_info": {
   "codemirror_mode": {
    "name": "ipython",
    "version": 3
   },
   "file_extension": ".py",
   "mimetype": "text/x-python",
   "name": "python",
   "nbconvert_exporter": "python",
   "pygments_lexer": "ipython3",
   "version": "3.11.1"
  }
 },
 "nbformat": 4,
 "nbformat_minor": 5
}
